{
 "cells": [
  {
   "cell_type": "code",
   "execution_count": 6,
   "metadata": {},
   "outputs": [
    {
     "name": "stdout",
     "output_type": "stream",
     "text": [
      "{7} {6}\n"
     ]
    }
   ],
   "source": [
    "\"\"\"\"программа генерирует число и с помощью цикла, вычисляет его\n",
    "\"\"\"\"\n",
    "import numpy as np\n",
    "number = np.random.randint(1,101) \n",
    "num_min,num_max = 1,100 \n",
    "count = 0 \n",
    "while True: \n",
    "  count += 1 \n",
    "  average = (num_min + num_max)//2 \n",
    "  if number > average: \n",
    "    num_min = average + 1 \n",
    "  elif number < average:\n",
    "    num_max = average - 1\n",
    "  else:\n",
    "    break\n"
   ]
  }
 ],
 "metadata": {
  "kernelspec": {
   "display_name": "Python 3",
   "language": "python",
   "name": "python3"
  },
  "language_info": {
   "codemirror_mode": {
    "name": "ipython",
    "version": 3
   },
   "file_extension": ".py",
   "mimetype": "text/x-python",
   "name": "python",
   "nbconvert_exporter": "python",
   "pygments_lexer": "ipython3",
   "version": "3.8.3"
  }
 },
 "nbformat": 4,
 "nbformat_minor": 4
}
